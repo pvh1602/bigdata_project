{
 "cells": [
  {
   "cell_type": "code",
   "execution_count": 1,
   "metadata": {},
   "outputs": [],
   "source": [
    "import seaborn as sns\n",
    "from pyspark import SparkContext\n",
    "from pyspark.sql import SparkSession"
   ]
  },
  {
   "cell_type": "code",
   "execution_count": 2,
   "metadata": {},
   "outputs": [],
   "source": [
    "ss = SparkSession.Builder() \\\n",
    "     .appName(\"articles\") \\\n",
    "     .master(\"spark://spark-master:7077\") \\\n",
    "     .getOrCreate()"
   ]
  },
  {
   "cell_type": "code",
   "execution_count": 3,
   "metadata": {},
   "outputs": [
    {
     "name": "stdout",
     "output_type": "stream",
     "text": [
      "Requirement already satisfied: pyvi in /opt/conda/lib/python3.7/site-packages (0.1)\n",
      "Requirement already satisfied: scikit-learn in /opt/conda/lib/python3.7/site-packages (from pyvi) (0.22.2.post1)\n",
      "Requirement already satisfied: sklearn-crfsuite in /opt/conda/lib/python3.7/site-packages (from pyvi) (0.3.6)\n",
      "Requirement already satisfied: joblib>=0.11 in /opt/conda/lib/python3.7/site-packages (from scikit-learn->pyvi) (0.15.1)\n",
      "Requirement already satisfied: scipy>=0.17.0 in /opt/conda/lib/python3.7/site-packages (from scikit-learn->pyvi) (1.4.1)\n",
      "Requirement already satisfied: numpy>=1.11.0 in /opt/conda/lib/python3.7/site-packages (from scikit-learn->pyvi) (1.18.5)\n",
      "Requirement already satisfied: six in /opt/conda/lib/python3.7/site-packages (from sklearn-crfsuite->pyvi) (1.15.0)\n",
      "Requirement already satisfied: tabulate in /opt/conda/lib/python3.7/site-packages (from sklearn-crfsuite->pyvi) (0.8.7)\n",
      "Requirement already satisfied: python-crfsuite>=0.8.3 in /opt/conda/lib/python3.7/site-packages (from sklearn-crfsuite->pyvi) (0.9.7)\n",
      "Requirement already satisfied: tqdm>=2.0 in /opt/conda/lib/python3.7/site-packages (from sklearn-crfsuite->pyvi) (4.46.1)\n",
      "Note: you may need to restart the kernel to use updated packages.\n"
     ]
    }
   ],
   "source": [
    "pip install pyvi"
   ]
  },
  {
   "cell_type": "code",
   "execution_count": 4,
   "metadata": {},
   "outputs": [],
   "source": [
    "df = ss.read.parquet(\"hdfs://namenode:9000/data/articles.parquet\")"
   ]
  },
  {
   "cell_type": "code",
   "execution_count": 5,
   "metadata": {},
   "outputs": [
    {
     "name": "stdout",
     "output_type": "stream",
     "text": [
      "+--------------------+--------------------+--------------------+--------------------+--------------+------------+--------------------+--------------------+--------------------+--------------------+--------+\n",
      "|                  id|               title|                sapo|                 url|        source|pega_cate_id|         title_token|          sapo_token|       content_token|           all_token|   label|\n",
      "+--------------------+--------------------+--------------------+--------------------+--------------+------------+--------------------+--------------------+--------------------+--------------------+--------+\n",
      "|6.366651292038185E17|Anh phát hiện 39 ...|Ngày 23/10, cảnh ...|http://vnmedia.vn...|    vnmedia.vn|         102|Anh phát_hiện 39 ...|Ngày 23/10 , cảnh...|Theo cảnh_sát địa...|anh phát_hiện    ...|Thế giới|\n",
      "|6.368640877043630...|Phát hiện két sắt...|Theo TASS ngày 23...|http://congan.com...| congan.com.vn|         102|Phát_hiện két sắt...|( CAO ) Theo TASS...|Theo điều_tra ban...|phát_hiện két sắt...|Thế giới|\n",
      "|6.370351636924579...|Máy bay rơi ở Mex...|Theo Sputnik ngày...|http://congan.com...| congan.com.vn|         102|Máy_bay rơi ở Mex...|( CAO ) Theo Sput...|Chiếc máy_bay đan...|máy_bay rơi ở mex...|Thế giới|\n",
      "| 6.37236419836928E17|Hình ảnh Đệ nhất ...|- Giữa lúc tin đồ...|http://vnmedia.vn...|    vnmedia.vn|         102|Hình_ảnh Đệ nhất ...|- Giữa lúc tin_đồ...|HÌnh_ảnh Đệ nhất ...|hình_ảnh đệ nhất ...|Thế giới|\n",
      "|6.380422542719959E17|Thủ lĩnh cao nhất...|​(CAO) Hôm 27-10,...|http://congan.com...| congan.com.vn|         102|Thủ_lĩnh cao nhất...|​ ( CAO ) Hôm 27-...|Các nguồn_tin ở S...|thủ_lĩnh cao nhất...|Thế giới|\n",
      "|6.383146015204556...|Nhóm người di cư ...|Theo Daily Mail n...|http://congan.com...| congan.com.vn|         102|Nhóm người di_cư ...|( CAO ) Theo Dail...|Cảnh_sát Pháp sau...|nhóm người di_cư ...|Thế giới|\n",
      "|6.384845724814131...|Quân đội Iraq ban...|Ngày 28/10, quân ...|http://baotintuc....|  baotintuc.vn|         102|Quân_đội Iraq ban...|Ngày 28/10 , quân...|Người biểu_tình t...|quân_đội iraq ban...|Thế giới|\n",
      "|6.385290400436305...|Chân dung \"Chị Bì...|Được gọi với cái ...|http://afamily.vn...|       AFamily|         102|Chân_dung \" Chị_B...|Được gọi với cái ...|39 thi_thể được p...|chân_dung   chị_b...|Thế giới|\n",
      "|6.385365374207508...|Cuộc sống khổ cực...|Khi Li Hua nộp 14...|http://danviet.vn...|    danviet.vn|         102|Cuộc_sống khổ_cực...|Khi Li_Hua nộp 14...|Trong số các nạn_...|cuộc_sống khổ_cực...|Thế giới|\n",
      "|6.385404403925893...|Tài xế container ...|Người lái xe cont...|https://vtc.vn/ta...|        vtc.vn|         102|Tài_xế container ...|( VTC News ) - Ng...|( VTC News ) - Ng...|tài_xế container ...|Thế giới|\n",
      "|6.385850645113978...|Một góc nhìn về t...|Luật sư Hoàng Duy...|https://nhandan.c...|nhandan.com.vn|         102|Một góc nhìn về t...|Luật_sư Hoàng_Duy...|Trong bài viết gử...|một góc nhìn về t...|Thế giới|\n",
      "|6.385851275895357...|Đảng cầm quyền ở ...|Roi-tơ dẫn thông ...|https://nhandan.c...|nhandan.com.vn|         102|Đảng cầm_quyền ở ...|Roi - tơ dẫn thôn...|Theo CNE , Tổng_t...|đảng cầm_quyền ở ...|Thế giới|\n",
      "|6.385851275937300...|  Cơ hội để thay đổi|Đợt biểu tình kéo...|https://nhandan.c...|nhandan.com.vn|         102|  Cơ_hội để thay_đổi|Đợt biểu_tình kéo...|Khởi_phát từ thủ_...|cơ_hội để thay_đổ...|Thế giới|\n",
      "|6.385851487288279E17|Cô-lôm-bi-a: Rơi ...|Không quân Cô-lôm...|https://nhandan.c...|nhandan.com.vn|         102|Cô - lôm - bi - a...|Không_quân Cô - l...|Trong thông_cáo ,...|cô   lôm   bi   a...|Thế giới|\n",
      "|6.385851487288279E17|Vì một châu lục k...|Những vụ tiến côn...|https://nhandan.c...|nhandan.com.vn|         102|Vì một châu_lục k...|Những vụ tiến_côn...|Trong bối_cảnh xu...|vì một châu_lục k...|Thế giới|\n",
      "|6.386141457978736...|[Video] Cháy rừng...|Cháy rừng tại ban...|https://www.vietn...|vietnamplus.vn|         102|[ Video ] Cháy rừ...|Cháy rừng tại ban...|Ngày 27/10 , cháy...|  video   cháy rừ...|Thế giới|\n",
      "|6.386148180357529...|Khung cảnh tan ho...|Cuộc săn lùng kẻ ...|https://www.vietn...|vietnamplus.vn|         102|Khung_cảnh tan_ho...|Cuộc săn_lùng kẻ ...|Cuộc săn_lùng kẻ ...|khung_cảnh tan_ho...|Thế giới|\n",
      "|6.386167924372521E17|[Video] Biểu tình...|Các cuộc biểu tìn...|https://www.vietn...|vietnamplus.vn|         102|[ Video ] Biểu_tì...|Các cuộc biểu_tìn...|Các cuộc biểu_tìn...|  video   biểu_tì...|Thế giới|\n",
      "|6.386198699574804...|Tổng thống Chile ...|Tổng thống Chile ...|https://www.vietn...|vietnamplus.vn|         102|Tổng_thống Chile_...|Tổng_thống Chile_...|Tổng_thống Chile_...|tổng_thống chile_...|Thế giới|\n",
      "|6.386205023830261...|Mượn tay người Ku...|Giới phân tích ch...|https://vtc.vn/mu...|        vtc.vn|         102|Mượn tay người Ku...|( VTC News ) - Gi...|( VTC News ) - Gi...|mượn tay người ku...|Thế giới|\n",
      "+--------------------+--------------------+--------------------+--------------------+--------------+------------+--------------------+--------------------+--------------------+--------------------+--------+\n",
      "only showing top 20 rows\n",
      "\n"
     ]
    }
   ],
   "source": [
    "df.show()"
   ]
  },
  {
   "cell_type": "code",
   "execution_count": 6,
   "metadata": {},
   "outputs": [],
   "source": [
    "df_new = df.drop('id', \n",
    "                'title', \n",
    "                'sapo',\n",
    "                'url',\n",
    "                'source',\n",
    "                'title_token',\n",
    "                'sapo_token',\n",
    "                'content_token')"
   ]
  },
  {
   "cell_type": "code",
   "execution_count": 7,
   "metadata": {},
   "outputs": [],
   "source": [
    "df_new = df_new.dropna()"
   ]
  },
  {
   "cell_type": "code",
   "execution_count": 8,
   "metadata": {
    "scrolled": true
   },
   "outputs": [
    {
     "name": "stdout",
     "output_type": "stream",
     "text": [
      "+------------+--------------------+--------+\n",
      "|pega_cate_id|           all_token|   label|\n",
      "+------------+--------------------+--------+\n",
      "|         102|anh phát_hiện    ...|Thế giới|\n",
      "|         102|phát_hiện két sắt...|Thế giới|\n",
      "|         102|máy_bay rơi ở mex...|Thế giới|\n",
      "|         102|hình_ảnh đệ nhất ...|Thế giới|\n",
      "|         102|thủ_lĩnh cao nhất...|Thế giới|\n",
      "+------------+--------------------+--------+\n",
      "only showing top 5 rows\n",
      "\n"
     ]
    }
   ],
   "source": [
    "df_new.show(5)"
   ]
  },
  {
   "cell_type": "markdown",
   "metadata": {},
   "source": [
    "**Visualize data**"
   ]
  },
  {
   "cell_type": "code",
   "execution_count": 10,
   "metadata": {},
   "outputs": [
    {
     "name": "stdout",
     "output_type": "stream",
     "text": [
      "DataFrame[label: string, count: bigint]\n"
     ]
    },
    {
     "data": {
      "image/png": "[encoded data removed]",
      "text/plain": [
       "<Figure size 432x288 with 1 Axes>"
      ]
     },
     "metadata": {
      "needs_background": "light"
     },
     "output_type": "display_data"
    }
   ],
   "source": [
    "\n",
    "import numpy as np\n",
    "import matplotlib.pyplot as plt\n",
    "print(df.groupBy('label').count())\n",
    "l = df.groupBy('label').count().collect()\n",
    "x = list(zip(*l))[0]\n",
    "y = list(zip(*l))[1]\n",
    "x_pos = np.arange(len(x)) \n",
    "# slope, intercept = np.polyfit(x_pos, y, 1)\n",
    "plt.bar(x_pos, y,align='center')\n",
    "plt.xticks(x_pos) \n",
    "plt.ylabel('Label Count')\n",
    "plt.xlabel('Label')\n",
    "plt.show()"
   ]
  },
  {
   "cell_type": "markdown",
   "metadata": {},
   "source": [
    "**Tokenize text in all_token columns**"
   ]
  },
  {
   "cell_type": "code",
   "execution_count": 8,
   "metadata": {},
   "outputs": [],
   "source": [
    "from pyspark.ml.feature import Tokenizer, CountVectorizer\n",
    "tkn = Tokenizer().setInputCol(\"all_token\").setOutputCol(\"content_tokenized\")\n",
    "train_df = tkn.transform(df_new)\n",
    "# train_df = tokenized.drop('title_token', 'sapo_token', 'content_token')"
   ]
  },
  {
   "cell_type": "code",
   "execution_count": 9,
   "metadata": {
    "scrolled": true
   },
   "outputs": [
    {
     "name": "stdout",
     "output_type": "stream",
     "text": [
      "+------------+--------------------+--------+--------------------+\n",
      "|pega_cate_id|           all_token|   label|   content_tokenized|\n",
      "+------------+--------------------+--------+--------------------+\n",
      "|         102|anh phát_hiện    ...|Thế giới|[anh, phát_hiện, ...|\n",
      "|         102|phát_hiện két sắt...|Thế giới|[phát_hiện, két, ...|\n",
      "|         102|máy_bay rơi ở mex...|Thế giới|[máy_bay, rơi, ở,...|\n",
      "|         102|hình_ảnh đệ nhất ...|Thế giới|[hình_ảnh, đệ, nh...|\n",
      "|         102|thủ_lĩnh cao nhất...|Thế giới|[thủ_lĩnh, cao, n...|\n",
      "+------------+--------------------+--------+--------------------+\n",
      "only showing top 5 rows\n",
      "\n"
     ]
    }
   ],
   "source": [
    "train_df.show(5)"
   ]
  },
  {
   "cell_type": "markdown",
   "metadata": {},
   "source": [
    "**TF-IDF**"
   ]
  },
  {
   "cell_type": "code",
   "execution_count": 10,
   "metadata": {},
   "outputs": [],
   "source": [
    "from pyspark.ml.feature import HashingTF, IDF\n",
    "from pyspark.ml.feature import RegexTokenizer, StopWordsRemover, StringIndexer\n",
    "from pyspark.ml import Pipeline"
   ]
  },
  {
   "cell_type": "code",
   "execution_count": 11,
   "metadata": {},
   "outputs": [],
   "source": [
    "label_stringIdx = StringIndexer(inputCol = \"label\", outputCol = \"label_id\")\n",
    "hashingTF = HashingTF(inputCol=\"content_tokenized\", outputCol=\"rawFeatures\", numFeatures=10000)\n",
    "idf = IDF(inputCol=\"rawFeatures\", outputCol=\"features\", minDocFreq=5) #minDocFreq: remove sparse terms\n",
    "pipeline = Pipeline(stages=[hashingTF, idf, label_stringIdx])\n",
    "pipelineFit = pipeline.fit(train_df)\n",
    "dataset = pipelineFit.transform(train_df)"
   ]
  },
  {
   "cell_type": "code",
   "execution_count": 12,
   "metadata": {},
   "outputs": [],
   "source": [
    "dataset = dataset.withColumnRenamed(\"label\", \"label_name\")\n",
    "dataset = dataset.withColumnRenamed(\"label_id\", \"label\")\n"
   ]
  },
  {
   "cell_type": "code",
   "execution_count": 13,
   "metadata": {
    "scrolled": true
   },
   "outputs": [
    {
     "name": "stdout",
     "output_type": "stream",
     "text": [
      "+------------+--------------------+----------+--------------------+--------------------+--------------------+-----+\n",
      "|pega_cate_id|           all_token|label_name|   content_tokenized|         rawFeatures|            features|label|\n",
      "+------------+--------------------+----------+--------------------+--------------------+--------------------+-----+\n",
      "|         102|anh phát_hiện    ...|  Thế giới|[anh, phát_hiện, ...|(10000,[44,277,57...|(10000,[44,277,57...|  1.0|\n",
      "|         102|phát_hiện két sắt...|  Thế giới|[phát_hiện, két, ...|(10000,[54,63,250...|(10000,[54,63,250...|  1.0|\n",
      "|         102|máy_bay rơi ở mex...|  Thế giới|[máy_bay, rơi, ở,...|(10000,[63,378,49...|(10000,[63,378,49...|  1.0|\n",
      "|         102|hình_ảnh đệ nhất ...|  Thế giới|[hình_ảnh, đệ, nh...|(10000,[37,43,52,...|(10000,[37,43,52,...|  1.0|\n",
      "|         102|thủ_lĩnh cao nhất...|  Thế giới|[thủ_lĩnh, cao, n...|(10000,[63,70,133...|(10000,[63,70,133...|  1.0|\n",
      "+------------+--------------------+----------+--------------------+--------------------+--------------------+-----+\n",
      "only showing top 5 rows\n",
      "\n"
     ]
    }
   ],
   "source": [
    "dataset.show(5)"
   ]
  },
  {
   "cell_type": "markdown",
   "metadata": {},
   "source": [
    "**Chia dữ liệu thành 2 tập train và test với tỷ lệ 80-20**"
   ]
  },
  {
   "cell_type": "code",
   "execution_count": 14,
   "metadata": {},
   "outputs": [],
   "source": [
    "df_train, df_test = dataset.randomSplit([0.8, 0.2])"
   ]
  },
  {
   "cell_type": "code",
   "execution_count": 15,
   "metadata": {},
   "outputs": [],
   "source": [
    "from pyspark.ml.classification import RandomForestClassifier\n",
    "from pyspark.ml.classification import LogisticRegression\n",
    "from pyspark.ml.evaluation import MulticlassClassificationEvaluator"
   ]
  },
  {
   "cell_type": "code",
   "execution_count": 16,
   "metadata": {},
   "outputs": [],
   "source": [
    "evaluator = MulticlassClassificationEvaluator(labelCol='label', \n",
    "                                          metricName='accuracy')"
   ]
  },
  {
   "cell_type": "markdown",
   "metadata": {},
   "source": [
    "**Huấn luyện mô hình**"
   ]
  },
  {
   "cell_type": "code",
   "execution_count": 17,
   "metadata": {},
   "outputs": [],
   "source": [
    "lr = LogisticRegression(regParam=0.3, elasticNetParam=0)\n",
    "lrModel = lr.fit(df_train)\n",
    "pred = lrModel.transform(df_test)\n"
   ]
  },
  {
   "cell_type": "markdown",
   "metadata": {},
   "source": [
    "**Đánh giá mô hình**"
   ]
  },
  {
   "cell_type": "code",
   "execution_count": 18,
   "metadata": {},
   "outputs": [
    {
     "data": {
      "text/plain": [
       "0.821733459805549"
      ]
     },
     "execution_count": 18,
     "metadata": {},
     "output_type": "execute_result"
    }
   ],
   "source": [
    "evaluator.evaluate(pred)"
   ]
  },
  {
   "cell_type": "markdown",
   "metadata": {},
   "source": [
    "## Thử nghiệm Spark Streaming "
   ]
  },
  {
   "cell_type": "code",
   "execution_count": 5,
   "metadata": {},
   "outputs": [],
   "source": [
    "static = ss.read.parquet(\"hdfs://namenode:9000/data/Dstream/f1.parquet\")\n",
    "dataSchema = static.schema"
   ]
  },
  {
   "cell_type": "code",
   "execution_count": 6,
   "metadata": {},
   "outputs": [
    {
     "name": "stdout",
     "output_type": "stream",
     "text": [
      "root\n",
      " |-- id: long (nullable = true)\n",
      " |-- title_token: string (nullable = true)\n",
      " |-- sapo_token: string (nullable = true)\n",
      " |-- content_token: string (nullable = true)\n",
      " |-- tag_token: double (nullable = true)\n",
      " |-- title_postag: string (nullable = true)\n",
      " |-- sapo_postag: string (nullable = true)\n",
      " |-- content_postag: string (nullable = true)\n",
      " |-- tag_postag: double (nullable = true)\n",
      " |-- title_ner: string (nullable = true)\n",
      " |-- sapo_ner: string (nullable = true)\n",
      " |-- content_ner: string (nullable = true)\n",
      " |-- tag_ner: double (nullable = true)\n",
      " |-- update_time: string (nullable = true)\n",
      " |-- source_tracking: string (nullable = true)\n",
      " |-- __index_level_0__: long (nullable = true)\n",
      "\n"
     ]
    }
   ],
   "source": [
    "static.printSchema()"
   ]
  },
  {
   "cell_type": "code",
   "execution_count": 7,
   "metadata": {
    "scrolled": false
   },
   "outputs": [
    {
     "name": "stdout",
     "output_type": "stream",
     "text": [
      "+------------------+--------------------+--------------------+--------------------+---------+--------------------+--------------------+--------------------+----------+--------------------+--------------------+--------------------+-------+-------------------+---------------+-----------------+\n",
      "|                id|         title_token|          sapo_token|       content_token|tag_token|        title_postag|         sapo_postag|      content_postag|tag_postag|           title_ner|            sapo_ner|         content_ner|tag_ner|        update_time|source_tracking|__index_level_0__|\n",
      "+------------------+--------------------+--------------------+--------------------+---------+--------------------+--------------------+--------------------+----------+--------------------+--------------------+--------------------+-------+-------------------+---------------+-----------------+\n",
      "|783112665224601602|Huyền My hội_ngộ ...|Show thời_trang m...|Tối_ngày 29/11 ở ...|     null|Huyền/Np My/Np hộ...|Show/Nb thời_tran...|Tối_ngày/N 29/11/...|      null|Huyền_My/PER Hồng...|Huyền_My/PER Hồng...|Hà_Nội/LOC Fashio...|   null|2020-12-01 00:00:01|    newsdb.news|                0|\n",
      "|783116112820854786|Chủ_tịch Quốc_hội...|Tối 30-11 , tại Q...|Uỷ_viên Bộ_Chính_...|     null|Chủ_tịch/N Quốc_h...|Tối/N 30-11/M ,/C...|Uỷ_viên/N Bộ_Chín...|      null|Quốc_hội/ORG Danh...|Quảng_trường_Hồ_C...|Bộ_Chính_trị/ORG ...|   null|2020-12-01 00:00:01|    newsdb.news|                1|\n",
      "|783118176766550016|Nhìn lại thành_tự...|T1 có những người...|Với việc có cho m...|     null|Nhìn/V lại/R thàn...|T1/Ny có/V những/...|Với/E việc/N có/V...|      null|  Canna/PER Zeus/PER|              T1/PRO|Zeus/PER Canna/PE...|   null|2020-12-01 00:00:01|    newsdb.news|                2|\n",
      "|783118586843652109|Triệt_phá ổ nhóm ...|Ngày 30/11 , Phòn...|Ngày 30/11 , Phòn...|     null|Triệt_phá/V ổ/N n...|Ngày/N 30/11/M ,/...|Ngày/N 30/11/M ,/...|      null|                null|Phòng_Cảnh_sát_Hì...|Phòng_Cảnh_sát_Hì...|   null|2020-12-01 00:00:01|    newsdb.news|                3|\n",
      "+------------------+--------------------+--------------------+--------------------+---------+--------------------+--------------------+--------------------+----------+--------------------+--------------------+--------------------+-------+-------------------+---------------+-----------------+\n",
      "only showing top 4 rows\n",
      "\n"
     ]
    }
   ],
   "source": [
    "static.show(4)"
   ]
  },
  {
   "cell_type": "code",
   "execution_count": 8,
   "metadata": {},
   "outputs": [],
   "source": [
    "import requests\n",
    "from pyvi import ViTokenizer"
   ]
  },
  {
   "cell_type": "code",
   "execution_count": 16,
   "metadata": {},
   "outputs": [],
   "source": [
    "streaming = ss.readStream.schema(dataSchema).option(\"maxFilesPerTrigger\", 1)\\\n",
    ".parquet(\"hdfs://namenode:9000/data/Dstream/\")"
   ]
  },
  {
   "cell_type": "code",
   "execution_count": 17,
   "metadata": {},
   "outputs": [],
   "source": [
    "activityCounts = streaming.groupBy(\"content_token\").count()"
   ]
  },
  {
   "cell_type": "code",
   "execution_count": 18,
   "metadata": {},
   "outputs": [],
   "source": [
    "ss.conf.set(\"spark.sql.shuffle.partitions\", 5)"
   ]
  },
  {
   "cell_type": "code",
   "execution_count": 19,
   "metadata": {},
   "outputs": [],
   "source": [
    "activityQuery = activityCounts.writeStream.queryName(\"test\")\\\n",
    ".format(\"memory\").outputMode(\"complete\")\\\n",
    ".start()"
   ]
  },
  {
   "cell_type": "code",
   "execution_count": 20,
   "metadata": {},
   "outputs": [
    {
     "data": {
      "text/plain": [
       "False"
      ]
     },
     "execution_count": 20,
     "metadata": {},
     "output_type": "execute_result"
    }
   ],
   "source": [
    "activityQuery.awaitTermination(timeout=1)"
   ]
  },
  {
   "cell_type": "code",
   "execution_count": 21,
   "metadata": {
    "scrolled": false
   },
   "outputs": [
    {
     "name": "stdout",
     "output_type": "stream",
     "text": [
      "Time step:  1\n",
      "current records:  89\n",
      "new records:  89\n",
      "processed records:  89\n",
      "=======================================\n",
      "Time step:  2\n",
      "current records:  1153\n",
      "new records:  1064\n",
      "processed records:  1153\n",
      "=======================================\n",
      "Time step:  3\n",
      "current records:  1984\n",
      "new records:  831\n",
      "processed records:  1984\n",
      "=======================================\n",
      "Time step:  4\n",
      "current records:  2708\n",
      "new records:  724\n",
      "processed records:  2708\n",
      "=======================================\n",
      "Time step:  5\n",
      "current records:  3254\n",
      "new records:  546\n",
      "processed records:  3254\n",
      "=======================================\n",
      "Time step:  6\n",
      "current records:  3730\n",
      "new records:  476\n",
      "processed records:  3730\n",
      "=======================================\n",
      "Time step:  7\n",
      "current records:  4101\n",
      "new records:  371\n",
      "processed records:  4101\n",
      "=======================================\n",
      "Time step:  8\n",
      "current records:  4449\n",
      "new records:  348\n",
      "processed records:  4449\n",
      "=======================================\n",
      "Time step:  9\n",
      "current records:  4779\n",
      "new records:  330\n",
      "processed records:  4779\n",
      "=======================================\n",
      "Time step:  10\n",
      "current records:  5039\n",
      "new records:  260\n",
      "processed records:  5039\n",
      "=======================================\n"
     ]
    }
   ],
   "source": [
    "from time import sleep\n",
    "last_count = 0\n",
    "for x in range(10):\n",
    "    \"\"\"\n",
    "    TODO: xử lý API \n",
    "    \"\"\"\n",
    "    print(\"Time step: \", x+1)\n",
    "    df_q = ss.sql(\"SELECT content_token FROM test \")\n",
    "    current_count = df_q.count()\n",
    "    list_contents = df_q.select('content_token').rdd.flatMap(lambda x: x).collect()\n",
    "    list_contents_update = [list_contents[i] for i in range(last_count, current_count)]\n",
    "    print(\"current records: \", current_count)\n",
    "    print(\"new records: \", current_count - last_count)\n",
    "    text = '#$'.join(list_contents_update)\n",
    "    ids = '#$'.join([str(i) for i in range(last_count, current_count)])\n",
    "    last_count = current_count\n",
    "    re = requests.post(\"http://localhost:8000/TextClassification\", data={\"text\":text, 'id':ids})\n",
    "    print(\"processed records: \", re.json()['size'])\n",
    "    print(\"=======================================\")\n",
    "#     sleep(1)"
   ]
  },
  {
   "cell_type": "code",
   "execution_count": 22,
   "metadata": {},
   "outputs": [],
   "source": [
    "activityQuery.stop()"
   ]
  },
  {
   "cell_type": "code",
   "execution_count": null,
   "metadata": {},
   "outputs": [],
   "source": []
  }
 ],
 "metadata": {
  "kernelspec": {
   "display_name": "Python 3",
   "language": "python",
   "name": "python3"
  },
  "language_info": {
   "codemirror_mode": {
    "name": "ipython",
    "version": 3
   },
   "file_extension": ".py",
   "mimetype": "text/x-python",
   "name": "python",
   "nbconvert_exporter": "python",
   "pygments_lexer": "ipython3",
   "version": "3.7.6"
  }
 },
 "nbformat": 4,
 "nbformat_minor": 4
}
